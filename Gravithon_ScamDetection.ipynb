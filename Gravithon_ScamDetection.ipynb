{
  "cells": [
    {
      "cell_type": "code",
      "execution_count": null,
      "metadata": {
        "id": "I6T_5ubcd3t3"
      },
      "outputs": [],
      "source": [
        "!pip install --upgrade gensim -q\n",
        "!pip install matplotlib -q"
      ]
    },
    {
      "cell_type": "code",
      "execution_count": null,
      "metadata": {
        "scrolled": true,
        "id": "9XaQFwH6d3uF",
        "outputId": "e7aefc31-e46b-4f34-c8ba-662784555b42",
        "colab": {
          "base_uri": "https://localhost:8080/"
        }
      },
      "outputs": [
        {
          "output_type": "stream",
          "name": "stderr",
          "text": [
            "/usr/local/lib/python3.9/dist-packages/torch/cuda/__init__.py:497: UserWarning: Can't initialize NVML\n",
            "  warnings.warn(\"Can't initialize NVML\")\n"
          ]
        }
      ],
      "source": [
        "import gensim\n",
        "from gensim.models import word2vec\n",
        "from gensim.models.word2vec import Word2Vec\n",
        "import numpy as np\n",
        "import matplotlib.pyplot as plt\n",
        "import pandas as pd\n",
        "import spacy\n",
        "import string"
      ]
    },
    {
      "cell_type": "code",
      "source": [
        "gensim.__version__"
      ],
      "metadata": {
        "colab": {
          "base_uri": "https://localhost:8080/",
          "height": 36
        },
        "id": "Ar_X4gP6IhSk",
        "outputId": "c986e3b7-9d10-4a2d-e831-d36a06be42cf"
      },
      "execution_count": null,
      "outputs": [
        {
          "output_type": "execute_result",
          "data": {
            "text/plain": [
              "'4.3.1'"
            ],
            "application/vnd.google.colaboratory.intrinsic+json": {
              "type": "string"
            }
          },
          "metadata": {},
          "execution_count": 3
        }
      ]
    },
    {
      "cell_type": "code",
      "source": [
        "np.random.seed(42)"
      ],
      "metadata": {
        "id": "a98GdugAAH35"
      },
      "execution_count": null,
      "outputs": []
    },
    {
      "cell_type": "markdown",
      "source": [
        "Use Pretrained Word Vectors"
      ],
      "metadata": {
        "id": "gW_0s2ZQQtDB"
      }
    },
    {
      "cell_type": "code",
      "source": [
        "import gensim.downloader as api\n",
        "print(list(gensim.downloader.info()['models'].keys()))"
      ],
      "metadata": {
        "colab": {
          "base_uri": "https://localhost:8080/"
        },
        "id": "4Yt8fZ6pQp4j",
        "outputId": "97d73cdc-f97b-467f-a255-fbb4c63a6d89"
      },
      "execution_count": null,
      "outputs": [
        {
          "output_type": "stream",
          "name": "stdout",
          "text": [
            "['fasttext-wiki-news-subwords-300', 'conceptnet-numberbatch-17-06-300', 'word2vec-ruscorpora-300', 'word2vec-google-news-300', 'glove-wiki-gigaword-50', 'glove-wiki-gigaword-100', 'glove-wiki-gigaword-200', 'glove-wiki-gigaword-300', 'glove-twitter-25', 'glove-twitter-50', 'glove-twitter-100', 'glove-twitter-200', '__testing_word2vec-matrix-synopsis']\n"
          ]
        }
      ]
    },
    {
      "cell_type": "code",
      "source": [
        "wv = api.load('glove-twitter-50')"
      ],
      "metadata": {
        "id": "u8_e1FlsOxUA",
        "outputId": "b131b41a-2849-4b93-bccc-f47064b6862b",
        "colab": {
          "base_uri": "https://localhost:8080/"
        }
      },
      "execution_count": null,
      "outputs": [
        {
          "output_type": "stream",
          "name": "stdout",
          "text": [
            "[==================================================] 100.0% 199.5/199.5MB downloaded\n"
          ]
        }
      ]
    },
    {
      "cell_type": "code",
      "source": [
        "wv.save('wv.model')"
      ],
      "metadata": {
        "id": "uELFoS3mcfGP"
      },
      "execution_count": null,
      "outputs": []
    },
    {
      "cell_type": "code",
      "source": [
        "type(wv)"
      ],
      "metadata": {
        "colab": {
          "base_uri": "https://localhost:8080/"
        },
        "id": "3UT0rA32iHFd",
        "outputId": "ae278a15-3532-4b35-b66b-f9ff072e29ef"
      },
      "execution_count": null,
      "outputs": [
        {
          "output_type": "execute_result",
          "data": {
            "text/plain": [
              "gensim.models.keyedvectors.KeyedVectors"
            ]
          },
          "metadata": {},
          "execution_count": 9
        }
      ]
    },
    {
      "cell_type": "code",
      "source": [
        "wv.similarity(\"apple\", \"car\")"
      ],
      "metadata": {
        "colab": {
          "base_uri": "https://localhost:8080/"
        },
        "id": "56TLg3ygJKwB",
        "outputId": "427ec744-525b-4fdd-ba2d-e9485a807dc5"
      },
      "execution_count": null,
      "outputs": [
        {
          "output_type": "execute_result",
          "data": {
            "text/plain": [
              "0.51229525"
            ]
          },
          "metadata": {},
          "execution_count": 10
        }
      ]
    },
    {
      "cell_type": "code",
      "source": [
        "pairs = [\n",
        "    ('car', 'minivan'),   # a minivan is a kind of car\n",
        "    ('car', 'bicycle'),   # still a wheeled vehicle\n",
        "    ('car', 'airplane'),  # ok, no wheels, but still a vehicle\n",
        "    ('car', 'cereal'),    # ... and so on\n",
        "    ('car', 'communism'),\n",
        "]\n",
        "for w1, w2 in pairs:\n",
        "    print('%r\\t%r\\t%.2f' % (w1, w2, wv.similarity(w1, w2)))"
      ],
      "metadata": {
        "id": "b1MxV_x3fEPm",
        "colab": {
          "base_uri": "https://localhost:8080/"
        },
        "outputId": "912e62c9-6dd5-452c-83c1-5e5a8c80fb7f"
      },
      "execution_count": null,
      "outputs": [
        {
          "output_type": "stream",
          "name": "stdout",
          "text": [
            "'car'\t'minivan'\t0.48\n",
            "'car'\t'bicycle'\t0.62\n",
            "'car'\t'airplane'\t0.67\n",
            "'car'\t'cereal'\t0.38\n",
            "'car'\t'communism'\t0.01\n"
          ]
        }
      ]
    },
    {
      "cell_type": "code",
      "source": [
        "print(wv.most_similar(positive=['car', 'minivan'], topn=5))"
      ],
      "metadata": {
        "id": "af8Fjp0TfOFl",
        "colab": {
          "base_uri": "https://localhost:8080/"
        },
        "outputId": "6aee2795-ee4b-4a6d-9ce1-a52a078cd128"
      },
      "execution_count": null,
      "outputs": [
        {
          "output_type": "stream",
          "name": "stdout",
          "text": [
            "[('truck', 0.8638960719108582), ('driving', 0.8150991797447205), ('airplane', 0.8137863278388977), ('parked', 0.8027330636978149), ('drove', 0.8020969033241272)]\n"
          ]
        }
      ]
    },
    {
      "cell_type": "code",
      "source": [
        "print(wv.doesnt_match(['fire', 'water', 'land', 'sea', 'air', 'car']))"
      ],
      "metadata": {
        "id": "QykE5BjrfVoG",
        "colab": {
          "base_uri": "https://localhost:8080/"
        },
        "outputId": "7631ae4a-9aa8-4110-ff91-0092ca4f1a45"
      },
      "execution_count": null,
      "outputs": [
        {
          "output_type": "stream",
          "name": "stdout",
          "text": [
            "sea\n"
          ]
        }
      ]
    },
    {
      "cell_type": "markdown",
      "metadata": {
        "id": "ZKbj-Rj0d3uw"
      },
      "source": [
        "#### Semantic regularities captured in word embeddings"
      ]
    },
    {
      "cell_type": "code",
      "execution_count": null,
      "metadata": {
        "id": "CioPg8xtd3uw",
        "outputId": "3d3dafff-67f3-49e5-9fc1-671f7fb0b8b6",
        "colab": {
          "base_uri": "https://localhost:8080/"
        }
      },
      "outputs": [
        {
          "output_type": "execute_result",
          "data": {
            "text/plain": [
              "[('prince', 0.759779691696167),\n",
              " ('stone', 0.7595877051353455),\n",
              " ('queen', 0.754626989364624)]"
            ]
          },
          "metadata": {},
          "execution_count": 14
        }
      ],
      "source": [
        "wv.most_similar(positive=['woman', 'king'], negative=['man'], topn=3)"
      ]
    },
    {
      "cell_type": "code",
      "source": [
        "wv.most_similar(positive=['woman', 'king'], topn=3)"
      ],
      "metadata": {
        "colab": {
          "base_uri": "https://localhost:8080/"
        },
        "id": "-mZtVMO1MgIQ",
        "outputId": "9f11c609-6fb5-4b39-f191-a98f69cdbd56"
      },
      "execution_count": null,
      "outputs": [
        {
          "output_type": "execute_result",
          "data": {
            "text/plain": [
              "[('guy', 0.8665385246276855),\n",
              " ('called', 0.8582760095596313),\n",
              " ('mother', 0.8502708077430725)]"
            ]
          },
          "metadata": {},
          "execution_count": 15
        }
      ]
    },
    {
      "cell_type": "code",
      "source": [
        "words = [\"one\",'two','man','woman','table']"
      ],
      "metadata": {
        "id": "77of9vb4Nngx"
      },
      "execution_count": null,
      "outputs": []
    },
    {
      "cell_type": "code",
      "source": [
        "sample_vectors = np.array([wv[word] for word in words])\n",
        "from sklearn.decomposition import PCA\n",
        "pca = PCA(n_components=2)\n",
        "result = pca.fit_transform(sample_vectors)\n",
        "result"
      ],
      "metadata": {
        "id": "DYpApeTjBYZ1",
        "colab": {
          "base_uri": "https://localhost:8080/"
        },
        "outputId": "a510d06f-8d58-4837-83bb-cbb0d1c0d28f"
      },
      "execution_count": null,
      "outputs": [
        {
          "output_type": "execute_result",
          "data": {
            "text/plain": [
              "array([[-0.28042245,  1.5896969 ],\n",
              "       [ 0.59239805,  1.983121  ],\n",
              "       [-2.5777643 , -1.6972471 ],\n",
              "       [-1.0547673 , -0.2568552 ],\n",
              "       [ 3.320554  , -1.6187161 ]], dtype=float32)"
            ]
          },
          "metadata": {},
          "execution_count": 17
        }
      ]
    },
    {
      "cell_type": "markdown",
      "metadata": {
        "id": "TnJ-I-8sd3uy"
      },
      "source": [
        "### Visualizing these word vectors"
      ]
    },
    {
      "cell_type": "code",
      "execution_count": null,
      "metadata": {
        "id": "vLRFzuXLd3u3",
        "outputId": "3c6c2de3-4b5a-4cac-b4a6-2ee61bb4f348",
        "colab": {
          "base_uri": "https://localhost:8080/",
          "height": 984
        }
      },
      "outputs": [
        {
          "output_type": "display_data",
          "data": {
            "text/plain": [
              "<Figure size 1200x1200 with 1 Axes>"
            ],
            "image/png": "[encoded data removed]"
          },
          "metadata": {}
        }
      ],
      "source": [
        "plt.figure(figsize=(12,12))\n",
        "plt.scatter(result[:,0], result[:,1])\n",
        "for i, word in enumerate(words):\n",
        "    plt.annotate(word, xy=(result[i, 0], result[i, 1]))\n",
        "plt.show()"
      ]
    },
    {
      "cell_type": "code",
      "source": [
        "data = pd.read_csv(\"/content/train.csv\",error_bad_lines=False, engine=\"python\")\n",
        "data.head()"
      ],
      "metadata": {
        "id": "r8q8h4K3dXcI",
        "colab": {
          "base_uri": "https://localhost:8080/",
          "height": 295
        },
        "outputId": "05c41f20-6d9f-4f62-f87e-505859651cdc"
      },
      "execution_count": null,
      "outputs": [
        {
          "output_type": "stream",
          "name": "stderr",
          "text": [
            "<ipython-input-19-17bcbbb67389>:1: FutureWarning: The error_bad_lines argument has been deprecated and will be removed in a future version. Use on_bad_lines in the future.\n",
            "\n",
            "\n",
            "  data = pd.read_csv(\"/content/train.csv\",error_bad_lines=False, engine=\"python\")\n"
          ]
        },
        {
          "output_type": "execute_result",
          "data": {
            "text/plain": [
              "                                                text  label\n",
              "0  my name is james and i am calling you from the...      1\n",
              "1  oh I want you to check whether you have got th...      1\n",
              "2   Good afternoon, may I speak with the person i...      0\n",
              "3  okay, let me help you to check those charges, ...      1\n",
              "4  I'm calling from ABC Advertising, and we speci...      0"
            ],
            "text/html": [
              "\n",
              "  <div id=\"df-78e47388-ed5e-4abb-ab6d-2d0689e15619\">\n",
              "    <div class=\"colab-df-container\">\n",
              "      <div>\n",
              "<style scoped>\n",
              "    .dataframe tbody tr th:only-of-type {\n",
              "        vertical-align: middle;\n",
              "    }\n",
              "\n",
              "    .dataframe tbody tr th {\n",
              "        vertical-align: top;\n",
              "    }\n",
              "\n",
              "    .dataframe thead th {\n",
              "        text-align: right;\n",
              "    }\n",
              "</style>\n",
              "<table border=\"1\" class=\"dataframe\">\n",
              "  <thead>\n",
              "    <tr style=\"text-align: right;\">\n",
              "      <th></th>\n",
              "      <th>text</th>\n",
              "      <th>label</th>\n",
              "    </tr>\n",
              "  </thead>\n",
              "  <tbody>\n",
              "    <tr>\n",
              "      <th>0</th>\n",
              "      <td>my name is james and i am calling you from the...</td>\n",
              "      <td>1</td>\n",
              "    </tr>\n",
              "    <tr>\n",
              "      <th>1</th>\n",
              "      <td>oh I want you to check whether you have got th...</td>\n",
              "      <td>1</td>\n",
              "    </tr>\n",
              "    <tr>\n",
              "      <th>2</th>\n",
              "      <td>Good afternoon, may I speak with the person i...</td>\n",
              "      <td>0</td>\n",
              "    </tr>\n",
              "    <tr>\n",
              "      <th>3</th>\n",
              "      <td>okay, let me help you to check those charges, ...</td>\n",
              "      <td>1</td>\n",
              "    </tr>\n",
              "    <tr>\n",
              "      <th>4</th>\n",
              "      <td>I'm calling from ABC Advertising, and we speci...</td>\n",
              "      <td>0</td>\n",
              "    </tr>\n",
              "  </tbody>\n",
              "</table>\n",
              "</div>\n",
              "      <button class=\"colab-df-convert\" onclick=\"convertToInteractive('df-78e47388-ed5e-4abb-ab6d-2d0689e15619')\"\n",
              "              title=\"Convert this dataframe to an interactive table.\"\n",
              "              style=\"display:none;\">\n",
              "        \n",
              "  <svg xmlns=\"http://www.w3.org/2000/svg\" height=\"24px\"viewBox=\"0 0 24 24\"\n",
              "       width=\"24px\">\n",
              "    <path d=\"M0 0h24v24H0V0z\" fill=\"none\"/>\n",
              "    <path d=\"M18.56 5.44l.94 2.06.94-2.06 2.06-.94-2.06-.94-.94-2.06-.94 2.06-2.06.94zm-11 1L8.5 8.5l.94-2.06 2.06-.94-2.06-.94L8.5 2.5l-.94 2.06-2.06.94zm10 10l.94 2.06.94-2.06 2.06-.94-2.06-.94-.94-2.06-.94 2.06-2.06.94z\"/><path d=\"M17.41 7.96l-1.37-1.37c-.4-.4-.92-.59-1.43-.59-.52 0-1.04.2-1.43.59L10.3 9.45l-7.72 7.72c-.78.78-.78 2.05 0 2.83L4 21.41c.39.39.9.59 1.41.59.51 0 1.02-.2 1.41-.59l7.78-7.78 2.81-2.81c.8-.78.8-2.07 0-2.86zM5.41 20L4 18.59l7.72-7.72 1.47 1.35L5.41 20z\"/>\n",
              "  </svg>\n",
              "      </button>\n",
              "      \n",
              "  <style>\n",
              "    .colab-df-container {\n",
              "      display:flex;\n",
              "      flex-wrap:wrap;\n",
              "      gap: 12px;\n",
              "    }\n",
              "\n",
              "    .colab-df-convert {\n",
              "      background-color: #E8F0FE;\n",
              "      border: none;\n",
              "      border-radius: 50%;\n",
              "      cursor: pointer;\n",
              "      display: none;\n",
              "      fill: #1967D2;\n",
              "      height: 32px;\n",
              "      padding: 0 0 0 0;\n",
              "      width: 32px;\n",
              "    }\n",
              "\n",
              "    .colab-df-convert:hover {\n",
              "      background-color: #E2EBFA;\n",
              "      box-shadow: 0px 1px 2px rgba(60, 64, 67, 0.3), 0px 1px 3px 1px rgba(60, 64, 67, 0.15);\n",
              "      fill: #174EA6;\n",
              "    }\n",
              "\n",
              "    [theme=dark] .colab-df-convert {\n",
              "      background-color: #3B4455;\n",
              "      fill: #D2E3FC;\n",
              "    }\n",
              "\n",
              "    [theme=dark] .colab-df-convert:hover {\n",
              "      background-color: #434B5C;\n",
              "      box-shadow: 0px 1px 3px 1px rgba(0, 0, 0, 0.15);\n",
              "      filter: drop-shadow(0px 1px 2px rgba(0, 0, 0, 0.3));\n",
              "      fill: #FFFFFF;\n",
              "    }\n",
              "  </style>\n",
              "\n",
              "      <script>\n",
              "        const buttonEl =\n",
              "          document.querySelector('#df-78e47388-ed5e-4abb-ab6d-2d0689e15619 button.colab-df-convert');\n",
              "        buttonEl.style.display =\n",
              "          google.colab.kernel.accessAllowed ? 'block' : 'none';\n",
              "\n",
              "        async function convertToInteractive(key) {\n",
              "          const element = document.querySelector('#df-78e47388-ed5e-4abb-ab6d-2d0689e15619');\n",
              "          const dataTable =\n",
              "            await google.colab.kernel.invokeFunction('convertToInteractive',\n",
              "                                                     [key], {});\n",
              "          if (!dataTable) return;\n",
              "\n",
              "          const docLinkHtml = 'Like what you see? Visit the ' +\n",
              "            '<a target=\"_blank\" href=https://colab.research.google.com/notebooks/data_table.ipynb>data table notebook</a>'\n",
              "            + ' to learn more about interactive tables.';\n",
              "          element.innerHTML = '';\n",
              "          dataTable['output_type'] = 'display_data';\n",
              "          await google.colab.output.renderOutput(dataTable, element);\n",
              "          const docLink = document.createElement('div');\n",
              "          docLink.innerHTML = docLinkHtml;\n",
              "          element.appendChild(docLink);\n",
              "        }\n",
              "      </script>\n",
              "    </div>\n",
              "  </div>\n",
              "  "
            ]
          },
          "metadata": {},
          "execution_count": 19
        }
      ]
    },
    {
      "cell_type": "code",
      "source": [
        "def sent_vec(sent):\n",
        "    vector_size = wv.vector_size\n",
        "    wv_res = np.zeros(vector_size)\n",
        "    # print(wv_res)\n",
        "    ctr = 1\n",
        "    for w in sent:\n",
        "        if w in wv:\n",
        "            ctr += 1\n",
        "            wv_res += wv[w]\n",
        "    wv_res = wv_res/ctr\n",
        "    return wv_res"
      ],
      "metadata": {
        "id": "Lkq3vjTRcGXz"
      },
      "execution_count": null,
      "outputs": []
    },
    {
      "cell_type": "code",
      "source": [
        "# Creating our tokenizer function\n",
        "def spacy_tokenizer(sentence):\n",
        "    # Creating our token object, which is used to create documents with linguistic annotations.\n",
        "    doc = nlp(sentence)\n",
        "\n",
        "\n",
        "\n",
        "    # print(doc)\n",
        "    # print(type(doc))\n",
        "\n",
        "    # Lemmatizing each token and converting each token into lowercase\n",
        "    mytokens = [ word.lemma_.lower().strip() for word in doc ]\n",
        "\n",
        "    # print(mytokens)\n",
        "\n",
        "    # Removing stop words\n",
        "    mytokens = [ word for word in mytokens if word not in stop_words and word not in punctuations ]\n",
        "\n",
        "    # return preprocessed list of tokens\n",
        "    return mytokens"
      ],
      "metadata": {
        "id": "1X-v4Q9adjfC"
      },
      "execution_count": null,
      "outputs": []
    },
    {
      "cell_type": "code",
      "source": [
        "sent_vec(\"I am happy\")"
      ],
      "metadata": {
        "colab": {
          "base_uri": "https://localhost:8080/"
        },
        "id": "d7PkUr8fcIny",
        "outputId": "e89af3fe-160b-4833-9f65-d67eb84a1b49"
      },
      "execution_count": null,
      "outputs": [
        {
          "output_type": "execute_result",
          "data": {
            "text/plain": [
              "array([ 0.11221238,  0.08086875,  0.07783688, -0.038995  , -0.18682502,\n",
              "        0.17493849, -0.42813626,  0.18419874, -0.13961012, -0.1894935 ,\n",
              "       -0.18459575, -0.39523976, -2.99103752, -0.0456085 , -0.02529901,\n",
              "        0.33934125, -0.37086751, -0.10923225, -0.102813  ,  0.85966501,\n",
              "       -0.24663988, -0.36515624,  0.20198388,  0.03161625,  0.02450538,\n",
              "       -1.66976251, -0.04163662, -0.0357965 ,  0.26119274,  0.57394749,\n",
              "        0.04942275, -0.32102951,  0.13673   , -0.03791625,  0.52639925,\n",
              "        0.50934474, -0.22326875, -0.27457125, -0.59217638,  0.28203475,\n",
              "       -2.33953753,  0.19693125,  0.2576075 , -0.14676042,  0.259737  ,\n",
              "        0.10288475, -0.10105875, -0.08618125,  0.12835125, -0.84626376])"
            ]
          },
          "metadata": {},
          "execution_count": 23
        }
      ]
    },
    {
      "cell_type": "code",
      "source": [
        "nlp = spacy.load(\"en_core_web_sm\")\n",
        "stop_words = nlp.Defaults.stop_words\n",
        "print(stop_words)"
      ],
      "metadata": {
        "colab": {
          "base_uri": "https://localhost:8080/"
        },
        "id": "MrfAYBjQdoGe",
        "outputId": "a65b4d85-7407-49d4-f80a-71efa1e03dd2"
      },
      "execution_count": null,
      "outputs": [
        {
          "output_type": "stream",
          "name": "stdout",
          "text": [
            "{'third', 'beforehand', 'why', 'sometime', 'front', 'then', 'those', 'own', 'herein', 'anyhow', 'we', 'should', 'or', 'using', 'four', 'part', 'therefore', 'did', 're', 'where', 'on', 'after', 'than', 'three', 'else', 'eleven', 'during', 'take', 'meanwhile', 'without', 'several', 'hundred', 'by', 'empty', 'bottom', 'whereupon', 'both', 'how', 'between', 'nothing', 'moreover', 'whence', 'if', 'been', 'more', 'can', 'a', 'never', 'alone', 'hers', 'ever', 'though', 'and', 'please', 'become', 'someone', 'as', 'per', 'there', 'keep', 'least', 'very', 'ten', 'some', 'afterwards', 'hereby', 'off', 'via', 'only', 'less', 'even', 'could', 'her', '’d', 'regarding', 'somehow', 'does', 'who', 'namely', 'first', 'still', 'me', 'nevertheless', 'perhaps', 'when', 'go', 'against', 'get', 'every', 'often', 'what', 'such', 'although', 'see', 'yourself', 'everyone', 'whereafter', '’re', '’ve', 'once', 'these', 'within', 'therein', 'their', 'throughout', 'thereby', 'whether', 'everywhere', 'he', 'it', 'about', 'are', 'over', 'might', 'will', 'toward', 'has', 'is', 'seem', 'noone', 'amount', 'almost', 'through', 'his', 'nobody', 'say', 'nine', 'show', 'to', 'really', 'around', 'became', \"'s\", 'none', 'eight', 'above', '‘s', 'give', 'now', 'besides', 'n’t', 'from', 'becomes', 'becoming', 'forty', 'him', 'whereby', '’s', 'across', 'full', 'fifteen', 'mine', 'top', 'just', 'whose', 'being', 'anywhere', 'further', 'themselves', 'she', 'due', 'all', 'indeed', 'thence', \"n't\", 'must', 'your', 'had', 'nor', 'sixty', 'five', 'call', 'whenever', 'but', 'side', '‘ve', 'no', 'its', 'were', 'our', 'whole', 'anything', 'each', '’ll', 'towards', 'since', 'among', 'back', 'along', 'nowhere', 'rather', 'thereupon', 'yours', \"'ll\", '‘re', 'because', 'in', 'that', 'seemed', 'however', 'whither', \"'m\", 'last', 'below', 'name', 'either', 'up', 'himself', 'amongst', 'yourselves', 'again', 'next', 'ourselves', 'twelve', 'always', 'neither', 'serious', 'before', '‘ll', 'formerly', 'they', 'beyond', 'whereas', 'ours', 'until', 'another', 'most', 'hereupon', 'otherwise', 'so', 'well', 'many', 'enough', 'of', 'at', 'fifty', 'cannot', 'here', 'into', 'you', 'them', \"'ve\", 'latterly', 'this', 'unless', 'beside', 'others', 'not', 'something', 'anyone', 'myself', 'one', 'an', 'my', 'behind', 'too', '‘d', 'six', 'thus', 'the', 'twenty', \"'d\", 'hence', '‘m', 'have', 'any', 'everything', 'thereafter', 'much', 'elsewhere', 'same', 'herself', 'already', 'itself', 'hereafter', 'anyway', 'yet', 'while', 'us', 'latter', 'may', 'quite', 'was', 'former', 'move', 'used', 'am', 'together', 'with', 'make', 'down', 'thru', 'also', 'would', '’m', 'i', 'few', 'n‘t', 'wherever', \"'re\", 'sometimes', 'seeming', 'wherein', 'two', 'whoever', 'done', 'onto', 'whatever', 'ca', 'for', 'upon', 'whom', 'various', 'put', 'under', 'doing', 'do', 'out', 'except', 'other', 'seems', 'which', 'mostly', 'be', 'somewhere', 'made'}\n"
          ]
        }
      ]
    },
    {
      "cell_type": "code",
      "source": [
        "punctuations = string.punctuation\n",
        "print(punctuations)"
      ],
      "metadata": {
        "colab": {
          "base_uri": "https://localhost:8080/"
        },
        "id": "UDO7z2qxdu9c",
        "outputId": "80ac757f-df95-4613-d88b-2e74bef494cb"
      },
      "execution_count": null,
      "outputs": [
        {
          "output_type": "stream",
          "name": "stdout",
          "text": [
            "!\"#$%&'()*+,-./:;<=>?@[\\]^_`{|}~\n"
          ]
        }
      ]
    },
    {
      "cell_type": "code",
      "source": [
        "data['tokens'] = data['text'].apply(spacy_tokenizer)"
      ],
      "metadata": {
        "id": "vnv2KJUld3AP"
      },
      "execution_count": null,
      "outputs": []
    },
    {
      "cell_type": "code",
      "source": [
        "data.head()"
      ],
      "metadata": {
        "colab": {
          "base_uri": "https://localhost:8080/",
          "height": 206
        },
        "id": "efY14RdKeDIB",
        "outputId": "797677fd-e83d-4b65-e69b-5f79c1cc6c3a"
      },
      "execution_count": null,
      "outputs": [
        {
          "output_type": "execute_result",
          "data": {
            "text/plain": [
              "                                                text  label  \\\n",
              "0  my name is james and i am calling you from the...      1   \n",
              "1  oh I want you to check whether you have got th...      1   \n",
              "2   Good afternoon, may I speak with the person i...      0   \n",
              "3  okay, let me help you to check those charges, ...      1   \n",
              "4  I'm calling from ABC Advertising, and we speci...      0   \n",
              "\n",
              "                                              tokens  \n",
              "0  [james, windows, technical, department, comput...  \n",
              "1      [oh, want, check, charge, credit, card, bank]  \n",
              "2  [good, afternoon, speak, person, charge, purch...  \n",
              "3  [okay, let, help, check, charge, help, refund,...  \n",
              "4  [abc, advertising, specialize, create, eye, ca...  "
            ],
            "text/html": [
              "\n",
              "  <div id=\"df-71d4a666-5948-4f43-be68-e6ec8dbf49bb\">\n",
              "    <div class=\"colab-df-container\">\n",
              "      <div>\n",
              "<style scoped>\n",
              "    .dataframe tbody tr th:only-of-type {\n",
              "        vertical-align: middle;\n",
              "    }\n",
              "\n",
              "    .dataframe tbody tr th {\n",
              "        vertical-align: top;\n",
              "    }\n",
              "\n",
              "    .dataframe thead th {\n",
              "        text-align: right;\n",
              "    }\n",
              "</style>\n",
              "<table border=\"1\" class=\"dataframe\">\n",
              "  <thead>\n",
              "    <tr style=\"text-align: right;\">\n",
              "      <th></th>\n",
              "      <th>text</th>\n",
              "      <th>label</th>\n",
              "      <th>tokens</th>\n",
              "    </tr>\n",
              "  </thead>\n",
              "  <tbody>\n",
              "    <tr>\n",
              "      <th>0</th>\n",
              "      <td>my name is james and i am calling you from the...</td>\n",
              "      <td>1</td>\n",
              "      <td>[james, windows, technical, department, comput...</td>\n",
              "    </tr>\n",
              "    <tr>\n",
              "      <th>1</th>\n",
              "      <td>oh I want you to check whether you have got th...</td>\n",
              "      <td>1</td>\n",
              "      <td>[oh, want, check, charge, credit, card, bank]</td>\n",
              "    </tr>\n",
              "    <tr>\n",
              "      <th>2</th>\n",
              "      <td>Good afternoon, may I speak with the person i...</td>\n",
              "      <td>0</td>\n",
              "      <td>[good, afternoon, speak, person, charge, purch...</td>\n",
              "    </tr>\n",
              "    <tr>\n",
              "      <th>3</th>\n",
              "      <td>okay, let me help you to check those charges, ...</td>\n",
              "      <td>1</td>\n",
              "      <td>[okay, let, help, check, charge, help, refund,...</td>\n",
              "    </tr>\n",
              "    <tr>\n",
              "      <th>4</th>\n",
              "      <td>I'm calling from ABC Advertising, and we speci...</td>\n",
              "      <td>0</td>\n",
              "      <td>[abc, advertising, specialize, create, eye, ca...</td>\n",
              "    </tr>\n",
              "  </tbody>\n",
              "</table>\n",
              "</div>\n",
              "      <button class=\"colab-df-convert\" onclick=\"convertToInteractive('df-71d4a666-5948-4f43-be68-e6ec8dbf49bb')\"\n",
              "              title=\"Convert this dataframe to an interactive table.\"\n",
              "              style=\"display:none;\">\n",
              "        \n",
              "  <svg xmlns=\"http://www.w3.org/2000/svg\" height=\"24px\"viewBox=\"0 0 24 24\"\n",
              "       width=\"24px\">\n",
              "    <path d=\"M0 0h24v24H0V0z\" fill=\"none\"/>\n",
              "    <path d=\"M18.56 5.44l.94 2.06.94-2.06 2.06-.94-2.06-.94-.94-2.06-.94 2.06-2.06.94zm-11 1L8.5 8.5l.94-2.06 2.06-.94-2.06-.94L8.5 2.5l-.94 2.06-2.06.94zm10 10l.94 2.06.94-2.06 2.06-.94-2.06-.94-.94-2.06-.94 2.06-2.06.94z\"/><path d=\"M17.41 7.96l-1.37-1.37c-.4-.4-.92-.59-1.43-.59-.52 0-1.04.2-1.43.59L10.3 9.45l-7.72 7.72c-.78.78-.78 2.05 0 2.83L4 21.41c.39.39.9.59 1.41.59.51 0 1.02-.2 1.41-.59l7.78-7.78 2.81-2.81c.8-.78.8-2.07 0-2.86zM5.41 20L4 18.59l7.72-7.72 1.47 1.35L5.41 20z\"/>\n",
              "  </svg>\n",
              "      </button>\n",
              "      \n",
              "  <style>\n",
              "    .colab-df-container {\n",
              "      display:flex;\n",
              "      flex-wrap:wrap;\n",
              "      gap: 12px;\n",
              "    }\n",
              "\n",
              "    .colab-df-convert {\n",
              "      background-color: #E8F0FE;\n",
              "      border: none;\n",
              "      border-radius: 50%;\n",
              "      cursor: pointer;\n",
              "      display: none;\n",
              "      fill: #1967D2;\n",
              "      height: 32px;\n",
              "      padding: 0 0 0 0;\n",
              "      width: 32px;\n",
              "    }\n",
              "\n",
              "    .colab-df-convert:hover {\n",
              "      background-color: #E2EBFA;\n",
              "      box-shadow: 0px 1px 2px rgba(60, 64, 67, 0.3), 0px 1px 3px 1px rgba(60, 64, 67, 0.15);\n",
              "      fill: #174EA6;\n",
              "    }\n",
              "\n",
              "    [theme=dark] .colab-df-convert {\n",
              "      background-color: #3B4455;\n",
              "      fill: #D2E3FC;\n",
              "    }\n",
              "\n",
              "    [theme=dark] .colab-df-convert:hover {\n",
              "      background-color: #434B5C;\n",
              "      box-shadow: 0px 1px 3px 1px rgba(0, 0, 0, 0.15);\n",
              "      filter: drop-shadow(0px 1px 2px rgba(0, 0, 0, 0.3));\n",
              "      fill: #FFFFFF;\n",
              "    }\n",
              "  </style>\n",
              "\n",
              "      <script>\n",
              "        const buttonEl =\n",
              "          document.querySelector('#df-71d4a666-5948-4f43-be68-e6ec8dbf49bb button.colab-df-convert');\n",
              "        buttonEl.style.display =\n",
              "          google.colab.kernel.accessAllowed ? 'block' : 'none';\n",
              "\n",
              "        async function convertToInteractive(key) {\n",
              "          const element = document.querySelector('#df-71d4a666-5948-4f43-be68-e6ec8dbf49bb');\n",
              "          const dataTable =\n",
              "            await google.colab.kernel.invokeFunction('convertToInteractive',\n",
              "                                                     [key], {});\n",
              "          if (!dataTable) return;\n",
              "\n",
              "          const docLinkHtml = 'Like what you see? Visit the ' +\n",
              "            '<a target=\"_blank\" href=https://colab.research.google.com/notebooks/data_table.ipynb>data table notebook</a>'\n",
              "            + ' to learn more about interactive tables.';\n",
              "          element.innerHTML = '';\n",
              "          dataTable['output_type'] = 'display_data';\n",
              "          await google.colab.output.renderOutput(dataTable, element);\n",
              "          const docLink = document.createElement('div');\n",
              "          docLink.innerHTML = docLinkHtml;\n",
              "          element.appendChild(docLink);\n",
              "        }\n",
              "      </script>\n",
              "    </div>\n",
              "  </div>\n",
              "  "
            ]
          },
          "metadata": {},
          "execution_count": 27
        }
      ]
    },
    {
      "cell_type": "code",
      "source": [
        "data['vec'] = data['tokens'].apply(sent_vec)"
      ],
      "metadata": {
        "id": "J6fqfDhTeGA4"
      },
      "execution_count": null,
      "outputs": []
    },
    {
      "cell_type": "code",
      "source": [
        "data.head()"
      ],
      "metadata": {
        "colab": {
          "base_uri": "https://localhost:8080/",
          "height": 206
        },
        "id": "IBWAxmw2elxw",
        "outputId": "cf455980-6a7a-4db3-fdc1-53b025daee8f"
      },
      "execution_count": null,
      "outputs": [
        {
          "output_type": "execute_result",
          "data": {
            "text/plain": [
              "                                                text  label  \\\n",
              "0  my name is james and i am calling you from the...      1   \n",
              "1  oh I want you to check whether you have got th...      1   \n",
              "2   Good afternoon, may I speak with the person i...      0   \n",
              "3  okay, let me help you to check those charges, ...      1   \n",
              "4  I'm calling from ABC Advertising, and we speci...      0   \n",
              "\n",
              "                                              tokens  \\\n",
              "0  [james, windows, technical, department, comput...   \n",
              "1      [oh, want, check, charge, credit, card, bank]   \n",
              "2  [good, afternoon, speak, person, charge, purch...   \n",
              "3  [okay, let, help, check, charge, help, refund,...   \n",
              "4  [abc, advertising, specialize, create, eye, ca...   \n",
              "\n",
              "                                                 vec  \n",
              "0  [0.30248744413256645, 0.09578545308775371, -0....  \n",
              "1  [0.10539862234145403, 0.4851162526756525, -0.3...  \n",
              "2  [0.10207721259858873, 0.14583437204742544, -0....  \n",
              "3  [0.28906075035532314, 0.5742841636141142, -0.5...  \n",
              "4  [0.1338569987565279, 0.45849387370981276, -0.3...  "
            ],
            "text/html": [
              "\n",
              "  <div id=\"df-358ef44f-fedb-4af8-8846-cabb7ff81c27\">\n",
              "    <div class=\"colab-df-container\">\n",
              "      <div>\n",
              "<style scoped>\n",
              "    .dataframe tbody tr th:only-of-type {\n",
              "        vertical-align: middle;\n",
              "    }\n",
              "\n",
              "    .dataframe tbody tr th {\n",
              "        vertical-align: top;\n",
              "    }\n",
              "\n",
              "    .dataframe thead th {\n",
              "        text-align: right;\n",
              "    }\n",
              "</style>\n",
              "<table border=\"1\" class=\"dataframe\">\n",
              "  <thead>\n",
              "    <tr style=\"text-align: right;\">\n",
              "      <th></th>\n",
              "      <th>text</th>\n",
              "      <th>label</th>\n",
              "      <th>tokens</th>\n",
              "      <th>vec</th>\n",
              "    </tr>\n",
              "  </thead>\n",
              "  <tbody>\n",
              "    <tr>\n",
              "      <th>0</th>\n",
              "      <td>my name is james and i am calling you from the...</td>\n",
              "      <td>1</td>\n",
              "      <td>[james, windows, technical, department, comput...</td>\n",
              "      <td>[0.30248744413256645, 0.09578545308775371, -0....</td>\n",
              "    </tr>\n",
              "    <tr>\n",
              "      <th>1</th>\n",
              "      <td>oh I want you to check whether you have got th...</td>\n",
              "      <td>1</td>\n",
              "      <td>[oh, want, check, charge, credit, card, bank]</td>\n",
              "      <td>[0.10539862234145403, 0.4851162526756525, -0.3...</td>\n",
              "    </tr>\n",
              "    <tr>\n",
              "      <th>2</th>\n",
              "      <td>Good afternoon, may I speak with the person i...</td>\n",
              "      <td>0</td>\n",
              "      <td>[good, afternoon, speak, person, charge, purch...</td>\n",
              "      <td>[0.10207721259858873, 0.14583437204742544, -0....</td>\n",
              "    </tr>\n",
              "    <tr>\n",
              "      <th>3</th>\n",
              "      <td>okay, let me help you to check those charges, ...</td>\n",
              "      <td>1</td>\n",
              "      <td>[okay, let, help, check, charge, help, refund,...</td>\n",
              "      <td>[0.28906075035532314, 0.5742841636141142, -0.5...</td>\n",
              "    </tr>\n",
              "    <tr>\n",
              "      <th>4</th>\n",
              "      <td>I'm calling from ABC Advertising, and we speci...</td>\n",
              "      <td>0</td>\n",
              "      <td>[abc, advertising, specialize, create, eye, ca...</td>\n",
              "      <td>[0.1338569987565279, 0.45849387370981276, -0.3...</td>\n",
              "    </tr>\n",
              "  </tbody>\n",
              "</table>\n",
              "</div>\n",
              "      <button class=\"colab-df-convert\" onclick=\"convertToInteractive('df-358ef44f-fedb-4af8-8846-cabb7ff81c27')\"\n",
              "              title=\"Convert this dataframe to an interactive table.\"\n",
              "              style=\"display:none;\">\n",
              "        \n",
              "  <svg xmlns=\"http://www.w3.org/2000/svg\" height=\"24px\"viewBox=\"0 0 24 24\"\n",
              "       width=\"24px\">\n",
              "    <path d=\"M0 0h24v24H0V0z\" fill=\"none\"/>\n",
              "    <path d=\"M18.56 5.44l.94 2.06.94-2.06 2.06-.94-2.06-.94-.94-2.06-.94 2.06-2.06.94zm-11 1L8.5 8.5l.94-2.06 2.06-.94-2.06-.94L8.5 2.5l-.94 2.06-2.06.94zm10 10l.94 2.06.94-2.06 2.06-.94-2.06-.94-.94-2.06-.94 2.06-2.06.94z\"/><path d=\"M17.41 7.96l-1.37-1.37c-.4-.4-.92-.59-1.43-.59-.52 0-1.04.2-1.43.59L10.3 9.45l-7.72 7.72c-.78.78-.78 2.05 0 2.83L4 21.41c.39.39.9.59 1.41.59.51 0 1.02-.2 1.41-.59l7.78-7.78 2.81-2.81c.8-.78.8-2.07 0-2.86zM5.41 20L4 18.59l7.72-7.72 1.47 1.35L5.41 20z\"/>\n",
              "  </svg>\n",
              "      </button>\n",
              "      \n",
              "  <style>\n",
              "    .colab-df-container {\n",
              "      display:flex;\n",
              "      flex-wrap:wrap;\n",
              "      gap: 12px;\n",
              "    }\n",
              "\n",
              "    .colab-df-convert {\n",
              "      background-color: #E8F0FE;\n",
              "      border: none;\n",
              "      border-radius: 50%;\n",
              "      cursor: pointer;\n",
              "      display: none;\n",
              "      fill: #1967D2;\n",
              "      height: 32px;\n",
              "      padding: 0 0 0 0;\n",
              "      width: 32px;\n",
              "    }\n",
              "\n",
              "    .colab-df-convert:hover {\n",
              "      background-color: #E2EBFA;\n",
              "      box-shadow: 0px 1px 2px rgba(60, 64, 67, 0.3), 0px 1px 3px 1px rgba(60, 64, 67, 0.15);\n",
              "      fill: #174EA6;\n",
              "    }\n",
              "\n",
              "    [theme=dark] .colab-df-convert {\n",
              "      background-color: #3B4455;\n",
              "      fill: #D2E3FC;\n",
              "    }\n",
              "\n",
              "    [theme=dark] .colab-df-convert:hover {\n",
              "      background-color: #434B5C;\n",
              "      box-shadow: 0px 1px 3px 1px rgba(0, 0, 0, 0.15);\n",
              "      filter: drop-shadow(0px 1px 2px rgba(0, 0, 0, 0.3));\n",
              "      fill: #FFFFFF;\n",
              "    }\n",
              "  </style>\n",
              "\n",
              "      <script>\n",
              "        const buttonEl =\n",
              "          document.querySelector('#df-358ef44f-fedb-4af8-8846-cabb7ff81c27 button.colab-df-convert');\n",
              "        buttonEl.style.display =\n",
              "          google.colab.kernel.accessAllowed ? 'block' : 'none';\n",
              "\n",
              "        async function convertToInteractive(key) {\n",
              "          const element = document.querySelector('#df-358ef44f-fedb-4af8-8846-cabb7ff81c27');\n",
              "          const dataTable =\n",
              "            await google.colab.kernel.invokeFunction('convertToInteractive',\n",
              "                                                     [key], {});\n",
              "          if (!dataTable) return;\n",
              "\n",
              "          const docLinkHtml = 'Like what you see? Visit the ' +\n",
              "            '<a target=\"_blank\" href=https://colab.research.google.com/notebooks/data_table.ipynb>data table notebook</a>'\n",
              "            + ' to learn more about interactive tables.';\n",
              "          element.innerHTML = '';\n",
              "          dataTable['output_type'] = 'display_data';\n",
              "          await google.colab.output.renderOutput(dataTable, element);\n",
              "          const docLink = document.createElement('div');\n",
              "          docLink.innerHTML = docLinkHtml;\n",
              "          element.appendChild(docLink);\n",
              "        }\n",
              "      </script>\n",
              "    </div>\n",
              "  </div>\n",
              "  "
            ]
          },
          "metadata": {},
          "execution_count": 29
        }
      ]
    },
    {
      "cell_type": "code",
      "source": [
        "X = data['vec'].to_list()\n",
        "y = data['label'].to_list()"
      ],
      "metadata": {
        "id": "6ZLvbyAUe2RQ"
      },
      "execution_count": null,
      "outputs": []
    },
    {
      "cell_type": "code",
      "source": [
        "X[0]"
      ],
      "metadata": {
        "id": "M2MvztRqfCGg",
        "outputId": "e192a20a-f44b-4485-ad2e-c472e2a13343",
        "colab": {
          "base_uri": "https://localhost:8080/"
        }
      },
      "execution_count": null,
      "outputs": [
        {
          "output_type": "execute_result",
          "data": {
            "text/plain": [
              "array([ 0.30248744,  0.09578545, -0.27325322, -0.06362145, -0.08562222,\n",
              "        0.04078368,  0.57928778, -0.36823167,  0.33153634, -0.241146  ,\n",
              "        0.50614477,  0.30595544, -3.09884445, -0.27206222,  0.23757888,\n",
              "       -0.18105966,  0.18769984,  0.33443777, -0.195862  , -0.23540667,\n",
              "       -0.54530912, -0.20558044,  0.27770556, -0.1440511 , -0.48376777,\n",
              "        0.21874292, -0.05782444, -0.16214775, -0.02276566,  0.24240596,\n",
              "       -0.21701834, -0.41568442, -0.13245444, -0.62478333,  0.3984989 ,\n",
              "       -0.03863334,  0.02881644,  0.39213934,  0.19713556, -0.15625311,\n",
              "       -0.33893444,  0.73379777, -0.34660155,  0.2969629 ,  0.20509577,\n",
              "       -0.02986178,  0.00647289,  0.12145956, -0.44570023,  0.16026222])"
            ]
          },
          "metadata": {},
          "execution_count": 31
        }
      ]
    },
    {
      "cell_type": "code",
      "source": [
        "from sklearn.model_selection import train_test_split\n",
        "X_train, X_test, y_train, y_test = train_test_split(X, y, test_size=0.2,stratify=y)"
      ],
      "metadata": {
        "id": "hJisSzFafD1I"
      },
      "execution_count": null,
      "outputs": []
    },
    {
      "cell_type": "code",
      "source": [
        "from sklearn.linear_model import LogisticRegression\n",
        "classifier = LogisticRegression()"
      ],
      "metadata": {
        "id": "yYFiyvbIfMmn"
      },
      "execution_count": null,
      "outputs": []
    },
    {
      "cell_type": "code",
      "source": [
        "classifier.fit(X_train,y_train)"
      ],
      "metadata": {
        "colab": {
          "base_uri": "https://localhost:8080/",
          "height": 74
        },
        "id": "PlvKwoWGfX5A",
        "outputId": "59508cf6-6318-448d-f9c6-01d39ce9c5c5"
      },
      "execution_count": null,
      "outputs": [
        {
          "output_type": "execute_result",
          "data": {
            "text/plain": [
              "LogisticRegression()"
            ],
            "text/html": [
              "<style>#sk-container-id-1 {color: black;background-color: white;}#sk-container-id-1 pre{padding: 0;}#sk-container-id-1 div.sk-toggleable {background-color: white;}#sk-container-id-1 label.sk-toggleable__label {cursor: pointer;display: block;width: 100%;margin-bottom: 0;padding: 0.3em;box-sizing: border-box;text-align: center;}#sk-container-id-1 label.sk-toggleable__label-arrow:before {content: \"▸\";float: left;margin-right: 0.25em;color: #696969;}#sk-container-id-1 label.sk-toggleable__label-arrow:hover:before {color: black;}#sk-container-id-1 div.sk-estimator:hover label.sk-toggleable__label-arrow:before {color: black;}#sk-container-id-1 div.sk-toggleable__content {max-height: 0;max-width: 0;overflow: hidden;text-align: left;background-color: #f0f8ff;}#sk-container-id-1 div.sk-toggleable__content pre {margin: 0.2em;color: black;border-radius: 0.25em;background-color: #f0f8ff;}#sk-container-id-1 input.sk-toggleable__control:checked~div.sk-toggleable__content {max-height: 200px;max-width: 100%;overflow: auto;}#sk-container-id-1 input.sk-toggleable__control:checked~label.sk-toggleable__label-arrow:before {content: \"▾\";}#sk-container-id-1 div.sk-estimator input.sk-toggleable__control:checked~label.sk-toggleable__label {background-color: #d4ebff;}#sk-container-id-1 div.sk-label input.sk-toggleable__control:checked~label.sk-toggleable__label {background-color: #d4ebff;}#sk-container-id-1 input.sk-hidden--visually {border: 0;clip: rect(1px 1px 1px 1px);clip: rect(1px, 1px, 1px, 1px);height: 1px;margin: -1px;overflow: hidden;padding: 0;position: absolute;width: 1px;}#sk-container-id-1 div.sk-estimator {font-family: monospace;background-color: #f0f8ff;border: 1px dotted black;border-radius: 0.25em;box-sizing: border-box;margin-bottom: 0.5em;}#sk-container-id-1 div.sk-estimator:hover {background-color: #d4ebff;}#sk-container-id-1 div.sk-parallel-item::after {content: \"\";width: 100%;border-bottom: 1px solid gray;flex-grow: 1;}#sk-container-id-1 div.sk-label:hover label.sk-toggleable__label {background-color: #d4ebff;}#sk-container-id-1 div.sk-serial::before {content: \"\";position: absolute;border-left: 1px solid gray;box-sizing: border-box;top: 0;bottom: 0;left: 50%;z-index: 0;}#sk-container-id-1 div.sk-serial {display: flex;flex-direction: column;align-items: center;background-color: white;padding-right: 0.2em;padding-left: 0.2em;position: relative;}#sk-container-id-1 div.sk-item {position: relative;z-index: 1;}#sk-container-id-1 div.sk-parallel {display: flex;align-items: stretch;justify-content: center;background-color: white;position: relative;}#sk-container-id-1 div.sk-item::before, #sk-container-id-1 div.sk-parallel-item::before {content: \"\";position: absolute;border-left: 1px solid gray;box-sizing: border-box;top: 0;bottom: 0;left: 50%;z-index: -1;}#sk-container-id-1 div.sk-parallel-item {display: flex;flex-direction: column;z-index: 1;position: relative;background-color: white;}#sk-container-id-1 div.sk-parallel-item:first-child::after {align-self: flex-end;width: 50%;}#sk-container-id-1 div.sk-parallel-item:last-child::after {align-self: flex-start;width: 50%;}#sk-container-id-1 div.sk-parallel-item:only-child::after {width: 0;}#sk-container-id-1 div.sk-dashed-wrapped {border: 1px dashed gray;margin: 0 0.4em 0.5em 0.4em;box-sizing: border-box;padding-bottom: 0.4em;background-color: white;}#sk-container-id-1 div.sk-label label {font-family: monospace;font-weight: bold;display: inline-block;line-height: 1.2em;}#sk-container-id-1 div.sk-label-container {text-align: center;}#sk-container-id-1 div.sk-container {/* jupyter's `normalize.less` sets `[hidden] { display: none; }` but bootstrap.min.css set `[hidden] { display: none !important; }` so we also need the `!important` here to be able to override the default hidden behavior on the sphinx rendered scikit-learn.org. See: https://github.com/scikit-learn/scikit-learn/issues/21755 */display: inline-block !important;position: relative;}#sk-container-id-1 div.sk-text-repr-fallback {display: none;}</style><div id=\"sk-container-id-1\" class=\"sk-top-container\"><div class=\"sk-text-repr-fallback\"><pre>LogisticRegression()</pre><b>In a Jupyter environment, please rerun this cell to show the HTML representation or trust the notebook. <br />On GitHub, the HTML representation is unable to render, please try loading this page with nbviewer.org.</b></div><div class=\"sk-container\" hidden><div class=\"sk-item\"><div class=\"sk-estimator sk-toggleable\"><input class=\"sk-toggleable__control sk-hidden--visually\" id=\"sk-estimator-id-1\" type=\"checkbox\" checked><label for=\"sk-estimator-id-1\" class=\"sk-toggleable__label sk-toggleable__label-arrow\">LogisticRegression</label><div class=\"sk-toggleable__content\"><pre>LogisticRegression()</pre></div></div></div></div></div>"
            ]
          },
          "metadata": {},
          "execution_count": 34
        }
      ]
    },
    {
      "cell_type": "code",
      "source": [
        "from sklearn import metrics\n",
        "predicted = classifier.predict(X_test)\n",
        "print(\"Logistic Regression Accuracy:\",metrics.accuracy_score(y_test, predicted))\n",
        "print(\"Logistic Regression Precision:\",metrics.precision_score(y_test, predicted))\n",
        "print(\"Logistic Regression Recall:\",metrics.recall_score(y_test, predicted))"
      ],
      "metadata": {
        "colab": {
          "base_uri": "https://localhost:8080/"
        },
        "id": "Jel4lRCkfaz_",
        "outputId": "7a98be2e-fcb8-4a23-d790-4f14b591015d"
      },
      "execution_count": null,
      "outputs": [
        {
          "output_type": "stream",
          "name": "stdout",
          "text": [
            "Logistic Regression Accuracy: 0.8\n",
            "Logistic Regression Precision: 0.75\n",
            "Logistic Regression Recall: 1.0\n"
          ]
        }
      ]
    },
    {
      "cell_type": "code",
      "source": [
        "test_df = pd.read_csv(\"/content/test.csv\")\n",
        "test_df['tokens'] = test_df['text'].apply(spacy_tokenizer)\n",
        "test_df['vec'] = test_df['tokens'].apply(sent_vec)"
      ],
      "metadata": {
        "id": "BTV9eaBVibt1"
      },
      "execution_count": null,
      "outputs": []
    },
    {
      "cell_type": "code",
      "source": [
        "X=test_df['vec'].to_list()\n",
        "test_df['vec'][0]"
      ],
      "metadata": {
        "id": "LgT9m4RXdwrs",
        "colab": {
          "base_uri": "https://localhost:8080/"
        },
        "outputId": "5bf4ac3d-7811-4180-c2bd-6e9b3d4d3759"
      },
      "execution_count": null,
      "outputs": [
        {
          "output_type": "execute_result",
          "data": {
            "text/plain": [
              "array([ 0.0225875 ,  0.30087749,  0.08226502,  0.14413249, -0.36102749,\n",
              "       -0.03421249, -0.240465  , -0.2404025 ,  0.434785  , -0.64145751,\n",
              "       -0.0119    ,  0.050095  , -1.259175  ,  0.05828499,  0.1753525 ,\n",
              "       -0.36453   , -0.34980275,  0.29554001,  0.50765   ,  0.23601456,\n",
              "       -0.185955  , -0.61677501, -0.09316   , -0.28850499, -0.33248626,\n",
              "        0.40938   , -0.28453249,  0.23788351, -0.051153  , -0.081061  ,\n",
              "        0.17793325, -0.1085225 ,  0.05507001, -0.5578575 ,  0.74898748,\n",
              "        0.1271425 ,  0.335948  , -0.08080298, -0.198675  , -0.246215  ,\n",
              "        0.09263499,  0.1994345 , -0.0869945 ,  0.4142975 , -0.07934751,\n",
              "        0.21217   , -0.38808749, -0.58372251, -0.0917885 ,  0.13579725])"
            ]
          },
          "metadata": {},
          "execution_count": 37
        }
      ]
    },
    {
      "cell_type": "code",
      "source": [
        "op=int(classifier.predict([X[1]]))"
      ],
      "metadata": {
        "id": "fwKUbPknf-u_"
      },
      "execution_count": null,
      "outputs": []
    },
    {
      "cell_type": "code",
      "source": [
        "import joblib\n",
        "joblib.dump(classifier,'classifier.pkl')\n",
        "print('Model saved')\n",
        "\n",
        "model_cols = ['text']\n",
        "joblib.dump(model_cols,'model_cols.pkl')\n",
        "print('Saved')"
      ],
      "metadata": {
        "colab": {
          "base_uri": "https://localhost:8080/"
        },
        "id": "xgC3v3wKo9C9",
        "outputId": "987ffe74-7495-48ae-ed02-d0c44701f2b3"
      },
      "execution_count": null,
      "outputs": [
        {
          "output_type": "stream",
          "name": "stdout",
          "text": [
            "Model saved\n",
            "Saved\n"
          ]
        }
      ]
    },
    {
      "cell_type": "code",
      "source": [
        "vec=spacy_tokenizer(\"I am calling from frizzle entertainment and your credit card is stolen.\")\n",
        "vec=sent_vec(vec)\n",
        "classifier.predict([vec])"
      ],
      "metadata": {
        "colab": {
          "base_uri": "https://localhost:8080/"
        },
        "id": "HN5Et8mYvIXl",
        "outputId": "64a72168-ec5c-4fef-ca77-ce215d90ea67"
      },
      "execution_count": null,
      "outputs": [
        {
          "output_type": "execute_result",
          "data": {
            "text/plain": [
              "array([1])"
            ]
          },
          "metadata": {},
          "execution_count": 41
        }
      ]
    },
    {
      "cell_type": "code",
      "source": [],
      "metadata": {
        "id": "MKNTKFhqvafX"
      },
      "execution_count": null,
      "outputs": []
    }
  ],
  "metadata": {
    "kernelspec": {
      "display_name": "Python 3.9.10 ('venv': venv)",
      "language": "python",
      "name": "python3"
    },
    "language_info": {
      "codemirror_mode": {
        "name": "ipython",
        "version": 3
      },
      "file_extension": ".py",
      "mimetype": "text/x-python",
      "name": "python",
      "nbconvert_exporter": "python",
      "pygments_lexer": "ipython3",
      "version": "3.9.10"
    },
    "vscode": {
      "interpreter": {
        "hash": "3aee63c9909931f8570ab0af8ed7fb48514b1bc692251c446ac030d3ef29d031"
      }
    },
    "colab": {
      "provenance": []
    }
  },
  "nbformat": 4,
  "nbformat_minor": 0
}